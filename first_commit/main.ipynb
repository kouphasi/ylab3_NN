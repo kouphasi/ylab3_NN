{
 "cells": [
  {
   "cell_type": "code",
   "execution_count": 2,
   "metadata": {},
   "outputs": [],
   "source": [
    "import numpy as np\n",
    "import scipy.special\n",
    "import csv\n",
    "import pandas as pd"
   ]
  },
  {
   "cell_type": "code",
   "execution_count": 3,
   "metadata": {},
   "outputs": [],
   "source": [
    "from neuralNetwork import neuralNetwork\n"
   ]
  },
  {
   "cell_type": "code",
   "execution_count": 5,
   "metadata": {},
   "outputs": [],
   "source": [
    "input_nodes = 5\n",
    "hidden_nodes = 512\n",
    "output_nodes = 5\n",
    "learning_rate = 0.3"
   ]
  },
  {
   "cell_type": "code",
   "execution_count": 6,
   "metadata": {},
   "outputs": [],
   "source": [
    "n = neuralNetwork(input_nodes, hidden_nodes, output_nodes, learning_rate)"
   ]
  },
  {
   "cell_type": "code",
   "execution_count": 7,
   "metadata": {},
   "outputs": [],
   "source": [
    "import makedata"
   ]
  },
  {
   "cell_type": "code",
   "execution_count": 8,
   "metadata": {},
   "outputs": [],
   "source": [
    "Data = makedata.MakeData()"
   ]
  },
  {
   "cell_type": "code",
   "execution_count": 9,
   "metadata": {},
   "outputs": [],
   "source": [
    "inputs = Data.input_learn\n",
    "outputs = Data.output_learn\n",
    "input_test = Data.input_test\n",
    "output_test = Data.output_test\n",
    "mses = []\n",
    "num_list = []"
   ]
  },
  {
   "cell_type": "code",
   "execution_count": 10,
   "metadata": {},
   "outputs": [
    {
     "data": {
      "text/plain": [
       "array([[-0.61639577],\n",
       "       [ 2.5144148 ],\n",
       "       [-1.03997603],\n",
       "       [ 0.45176313],\n",
       "       [-0.98472643],\n",
       "       [-0.32173125],\n",
       "       [-0.72689497],\n",
       "       [-0.45064698],\n",
       "       [ 0.08343247],\n",
       "       [-0.17439898],\n",
       "       [-0.34014778],\n",
       "       [-0.28489818],\n",
       "       [ 0.54384579],\n",
       "       [ 3.19582652],\n",
       "       [ 0.4885962 ],\n",
       "       [ 0.23076474],\n",
       "       [-0.61639577],\n",
       "       [-0.50589658],\n",
       "       [ 0.13868207],\n",
       "       [-0.22964858],\n",
       "       [ 0.4885962 ],\n",
       "       [ 0.4885962 ],\n",
       "       [-0.11914939],\n",
       "       [-1.05839256],\n",
       "       [-0.83739417],\n",
       "       [ 0.96742605],\n",
       "       [-0.45064698],\n",
       "       [-1.02155949],\n",
       "       [ 1.11475831],\n",
       "       [ 1.13317484],\n",
       "       [-0.34014778],\n",
       "       [-0.6900619 ],\n",
       "       [-0.61639577],\n",
       "       [-0.54272964],\n",
       "       [-0.8005611 ],\n",
       "       [-1.15047522],\n",
       "       [-0.92947683],\n",
       "       [-0.87422723],\n",
       "       [ 0.50701273],\n",
       "       [-0.8005611 ],\n",
       "       [-1.02155949],\n",
       "       [-0.72689497],\n",
       "       [ 2.86432893],\n",
       "       [-0.28489818],\n",
       "       [-0.28489818],\n",
       "       [ 2.25658334],\n",
       "       [-0.32173125],\n",
       "       [ 0.4333466 ],\n",
       "       [-0.06389979],\n",
       "       [-0.94789336],\n",
       "       [ 0.28601434],\n",
       "       [-0.24806512]])"
      ]
     },
     "execution_count": 10,
     "metadata": {},
     "output_type": "execute_result"
    }
   ],
   "source": [
    "output_test"
   ]
  },
  {
   "cell_type": "code",
   "execution_count": 8,
   "metadata": {},
   "outputs": [],
   "source": [
    "import scipy\n",
    "import scipy.special"
   ]
  },
  {
   "cell_type": "code",
   "execution_count": 17,
   "metadata": {},
   "outputs": [
    {
     "name": "stdout",
     "output_type": "stream",
     "text": [
      "正解　0.3333333333333333\n",
      "惜しい0.6190476190476191\n"
     ]
    }
   ],
   "source": [
    "mses = []\n",
    "for i in range(len(inputs)):\n",
    "    targets = np.zeros(output_nodes)\n",
    "    targets[int(outputs[i][0])-1] = 0.99\n",
    "    n.train(inputs[i], targets)\n",
    "    num_list.append(i)\n",
    "    mse = 0\n",
    "    for k in range(len(input_test)):\n",
    "        query = n.query(input_test[k])\n",
    "        # print(query)\n",
    "        test_targets = np.zeros(output_nodes)\n",
    "        test_targets[int(output_test[k][0])-1] = 0.99\n",
    "        for j in range(len(query)):\n",
    "            mse += (query[j][0] - test_targets[j])**2\n",
    "            # print(mse)\n",
    "\n",
    "    mse = mse/5/len(input_test)\n",
    "\n",
    "    mses.append(mse)\n",
    "\n",
    "correct = 0\n",
    "near = 0\n",
    "for i in range(len(input_test)):\n",
    "    q = n.query(input_test[i])\n",
    "    if q.argmax(axis=0)[0]+1 == output_test[i][0]:\n",
    "        correct +=1\n",
    "        near +=1\n",
    "    elif q.argmax(axis=0)[0]+2 == output_test[i][0] or q.argmax(axis=0)[0] == output_test[i][0]:\n",
    "        near +=1\n",
    "\n",
    "print(f\"正解　{correct/len(output_test)}\")\n",
    "print(f\"惜しい{near/len(output_test)}\")\n"
   ]
  },
  {
   "cell_type": "code",
   "execution_count": 31,
   "metadata": {},
   "outputs": [],
   "source": [
    "q = n.query(input_test[1])\n",
    "q.reshape(1,5)\n",
    "label = [\"男性の平均寿命\", \"女性の平均寿命\", \"幸福度\", \"出生率\", \"1人当たりのGDP\", \"自殺率が1っぽさ\", \"自殺率が2っぽさ\", \"自殺率が3っぽさ\", \"自殺率が4っぽさ\", \"自殺率が5っぽさ\"]\n",
    "x = np.append(input_test[0], q.reshape(1,5))\n",
    "df = pd.DataFrame(x, index=label)"
   ]
  },
  {
   "cell_type": "code",
   "execution_count": 33,
   "metadata": {},
   "outputs": [],
   "source": [
    "df.to_csv(\"./output.csv\",encoding=\"shift-jis\")"
   ]
  },
  {
   "cell_type": "code",
   "execution_count": 10,
   "metadata": {},
   "outputs": [],
   "source": [
    "import matplotlib.pyplot as plt"
   ]
  },
  {
   "cell_type": "code",
   "execution_count": 1,
   "metadata": {},
   "outputs": [
    {
     "ename": "NameError",
     "evalue": "name 'plt' is not defined",
     "output_type": "error",
     "traceback": [
      "\u001b[1;31m---------------------------------------------------------------------------\u001b[0m",
      "\u001b[1;31mNameError\u001b[0m                                 Traceback (most recent call last)",
      "Cell \u001b[1;32mIn [1], line 1\u001b[0m\n\u001b[1;32m----> 1\u001b[0m plt\u001b[39m.\u001b[39mplot(mses, \u001b[39m\"\u001b[39m\u001b[39m.\u001b[39m\u001b[39m\"\u001b[39m)\n",
      "\u001b[1;31mNameError\u001b[0m: name 'plt' is not defined"
     ]
    }
   ],
   "source": [
    "plt.plot(mses, \".\")"
   ]
  },
  {
   "cell_type": "code",
   "execution_count": null,
   "metadata": {},
   "outputs": [],
   "source": []
  },
  {
   "cell_type": "code",
   "execution_count": null,
   "metadata": {},
   "outputs": [],
   "source": []
  },
  {
   "cell_type": "code",
   "execution_count": null,
   "metadata": {},
   "outputs": [],
   "source": []
  },
  {
   "cell_type": "code",
   "execution_count": 12,
   "metadata": {},
   "outputs": [
    {
     "data": {
      "text/plain": [
       "0.30952380952380953"
      ]
     },
     "execution_count": 12,
     "metadata": {},
     "output_type": "execute_result"
    }
   ],
   "source": [
    "correct = 0\n",
    "for i in range(len(input_test)):\n",
    "    q = n.query(input_test[i])\n",
    "    if q.argmax(axis=0)[0]+1 == output_test[i][0]:\n",
    "        correct +=1\n",
    "\n",
    "correct/len(output_test)"
   ]
  },
  {
   "cell_type": "code",
   "execution_count": 13,
   "metadata": {},
   "outputs": [
    {
     "data": {
      "text/plain": [
       "1"
      ]
     },
     "execution_count": 13,
     "metadata": {},
     "output_type": "execute_result"
    }
   ],
   "source": [
    "q.argmax(axis=0)[0]+1"
   ]
  },
  {
   "cell_type": "code",
   "execution_count": 14,
   "metadata": {},
   "outputs": [],
   "source": [
    "x = np.arange(-4,4,0.025)\n",
    "y = np.array([ i*(i>0.0) for i in x])"
   ]
  },
  {
   "cell_type": "code",
   "execution_count": 15,
   "metadata": {},
   "outputs": [
    {
     "data": {
      "image/png": "[encoded data removed]",
      "text/plain": [
       "<Figure size 640x480 with 1 Axes>"
      ]
     },
     "metadata": {},
     "output_type": "display_data"
    }
   ],
   "source": [
    "plt.plot(x,y)\n",
    "plt.title(\"ReLU Function\")\n",
    "plt.show()"
   ]
  },
  {
   "cell_type": "code",
   "execution_count": null,
   "metadata": {},
   "outputs": [],
   "source": []
  }
 ],
 "metadata": {
  "kernelspec": {
   "display_name": "Python 3",
   "language": "python",
   "name": "python3"
  },
  "language_info": {
   "codemirror_mode": {
    "name": "ipython",
    "version": 3
   },
   "file_extension": ".py",
   "mimetype": "text/x-python",
   "name": "python",
   "nbconvert_exporter": "python",
   "pygments_lexer": "ipython3",
   "version": "3.10.6 (tags/v3.10.6:9c7b4bd, Aug  1 2022, 21:53:49) [MSC v.1932 64 bit (AMD64)]"
  },
  "orig_nbformat": 4,
  "vscode": {
   "interpreter": {
    "hash": "548c5aecd678671b435ac006e2c3e30e4c8ec5c2665ad28ff89ab32d59f6fefc"
   }
  }
 },
 "nbformat": 4,
 "nbformat_minor": 2
}
