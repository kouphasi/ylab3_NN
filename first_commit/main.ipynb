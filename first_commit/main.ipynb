{
 "cells": [
  {
   "cell_type": "code",
   "execution_count": 1,
   "metadata": {},
   "outputs": [],
   "source": [
    "import numpy as np\n",
    "import scipy.special\n",
    "import csv\n",
    "import pandas as pd"
   ]
  },
  {
   "cell_type": "code",
   "execution_count": 2,
   "metadata": {},
   "outputs": [],
   "source": [
    "from neuralNetwork import neuralNetwork\n"
   ]
  },
  {
   "cell_type": "code",
   "execution_count": 3,
   "metadata": {},
   "outputs": [],
   "source": [
    "input_nodes = 5\n",
    "hidden_nodes = 512\n",
    "output_nodes = 5\n",
    "learning_rate = 0.3"
   ]
  },
  {
   "cell_type": "code",
   "execution_count": 4,
   "metadata": {},
   "outputs": [],
   "source": [
    "n = neuralNetwork(input_nodes, hidden_nodes, output_nodes, learning_rate)"
   ]
  },
  {
   "cell_type": "code",
   "execution_count": 5,
   "metadata": {},
   "outputs": [],
   "source": [
    "import makedata"
   ]
  },
  {
   "cell_type": "code",
   "execution_count": 6,
   "metadata": {},
   "outputs": [],
   "source": [
    "Data = makedata.MakeData()"
   ]
  },
  {
   "cell_type": "code",
   "execution_count": 7,
   "metadata": {},
   "outputs": [],
   "source": [
    "inputs = Data.input_learn\n",
    "outputs = Data.output_learn\n",
    "input_test = Data.input_test\n",
    "output_test = Data.output_test\n",
    "mses = []\n",
    "num_list = []"
   ]
  },
  {
   "cell_type": "code",
   "execution_count": 8,
   "metadata": {},
   "outputs": [],
   "source": [
    "import scipy\n",
    "import scipy.special"
   ]
  },
  {
   "cell_type": "code",
   "execution_count": 17,
   "metadata": {},
   "outputs": [
    {
     "name": "stdout",
     "output_type": "stream",
     "text": [
      "正解　0.3333333333333333\n",
      "惜しい0.6190476190476191\n"
     ]
    }
   ],
   "source": [
    "mses = []\n",
    "for i in range(len(inputs)):\n",
    "    targets = np.zeros(output_nodes)\n",
    "    targets[int(outputs[i][0])-1] = 0.99\n",
    "    n.train(inputs[i], targets)\n",
    "    num_list.append(i)\n",
    "    mse = 0\n",
    "    for k in range(len(input_test)):\n",
    "        query = n.query(input_test[k])\n",
    "        # print(query)\n",
    "        test_targets = np.zeros(output_nodes)\n",
    "        test_targets[int(output_test[k][0])-1] = 0.99\n",
    "        for j in range(len(query)):\n",
    "            mse += (query[j][0] - test_targets[j])**2\n",
    "            # print(mse)\n",
    "\n",
    "    mse = mse/5/len(input_test)\n",
    "\n",
    "    mses.append(mse)\n",
    "\n",
    "correct = 0\n",
    "near = 0\n",
    "for i in range(len(input_test)):\n",
    "    q = n.query(input_test[i])\n",
    "    if q.argmax(axis=0)[0]+1 == output_test[i][0]:\n",
    "        correct +=1\n",
    "        near +=1\n",
    "    elif q.argmax(axis=0)[0]+2 == output_test[i][0] or q.argmax(axis=0)[0] == output_test[i][0]:\n",
    "        near +=1\n",
    "\n",
    "print(f\"正解　{correct/len(output_test)}\")\n",
    "print(f\"惜しい{near/len(output_test)}\")\n"
   ]
  },
  {
   "cell_type": "code",
   "execution_count": 28,
   "metadata": {},
   "outputs": [
    {
     "data": {
      "text/plain": [
       "array([-1.66872549, -1.61293555, -1.49298941,  0.440686  , -0.62428609,\n",
       "        0.46477184,  0.38959942,  0.22415953,  0.05338928, -0.        ])"
      ]
     },
     "execution_count": 28,
     "metadata": {},
     "output_type": "execute_result"
    }
   ],
   "source": [
    "q = n.query(input_test[1])\n",
    "q.reshape(1,5)\n",
    "label = [\"男性の平均寿命\", \"女性の平均寿命\", \"幸福度\", \"出生率\", \"1人当たりのGDP\", \"自殺率が1っぽさ\", \"自殺率が2っぽさ\", \"自殺率が3っぽさ\", \"自殺率が4っぽさ\", \"自殺率が5っぽさ\"]\n",
    "x = np.append(input_test[0], q.reshape(1,5))\n",
    "x"
   ]
  },
  {
   "cell_type": "code",
   "execution_count": 10,
   "metadata": {},
   "outputs": [],
   "source": [
    "import matplotlib.pyplot as plt"
   ]
  },
  {
   "cell_type": "code",
   "execution_count": 11,
   "metadata": {},
   "outputs": [
    {
     "data": {
      "text/plain": [
       "[<matplotlib.lines.Line2D at 0x29996822ad0>]"
      ]
     },
     "execution_count": 11,
     "metadata": {},
     "output_type": "execute_result"
    },
    {
     "data": {
      "image/png": "[encoded data removed]",
      "text/plain": [
       "<Figure size 640x480 with 1 Axes>"
      ]
     },
     "metadata": {},
     "output_type": "display_data"
    }
   ],
   "source": [
    "plt.plot(mses, \".\")"
   ]
  },
  {
   "cell_type": "code",
   "execution_count": 12,
   "metadata": {},
   "outputs": [
    {
     "data": {
      "text/plain": [
       "0.30952380952380953"
      ]
     },
     "execution_count": 12,
     "metadata": {},
     "output_type": "execute_result"
    }
   ],
   "source": [
    "correct = 0\n",
    "for i in range(len(input_test)):\n",
    "    q = n.query(input_test[i])\n",
    "    if q.argmax(axis=0)[0]+1 == output_test[i][0]:\n",
    "        correct +=1\n",
    "\n",
    "correct/len(output_test)"
   ]
  },
  {
   "cell_type": "code",
   "execution_count": 13,
   "metadata": {},
   "outputs": [
    {
     "data": {
      "text/plain": [
       "1"
      ]
     },
     "execution_count": 13,
     "metadata": {},
     "output_type": "execute_result"
    }
   ],
   "source": [
    "q.argmax(axis=0)[0]+1"
   ]
  },
  {
   "cell_type": "code",
   "execution_count": 14,
   "metadata": {},
   "outputs": [],
   "source": [
    "x = np.arange(-4,4,0.025)\n",
    "y = np.array([ i*(i>0.0) for i in x])"
   ]
  },
  {
   "cell_type": "code",
   "execution_count": 15,
   "metadata": {},
   "outputs": [
    {
     "data": {
      "image/png": "[encoded data removed]",
      "text/plain": [
       "<Figure size 640x480 with 1 Axes>"
      ]
     },
     "metadata": {},
     "output_type": "display_data"
    }
   ],
   "source": [
    "plt.plot(x,y)\n",
    "plt.title(\"ReLU Function\")\n",
    "plt.show()"
   ]
  },
  {
   "cell_type": "code",
   "execution_count": null,
   "metadata": {},
   "outputs": [],
   "source": []
  }
 ],
 "metadata": {
  "kernelspec": {
   "display_name": "Python 3",
   "language": "python",
   "name": "python3"
  },
  "language_info": {
   "codemirror_mode": {
    "name": "ipython",
    "version": 3
   },
   "file_extension": ".py",
   "mimetype": "text/x-python",
   "name": "python",
   "nbconvert_exporter": "python",
   "pygments_lexer": "ipython3",
   "version": "3.10.6"
  },
  "orig_nbformat": 4,
  "vscode": {
   "interpreter": {
    "hash": "548c5aecd678671b435ac006e2c3e30e4c8ec5c2665ad28ff89ab32d59f6fefc"
   }
  }
 },
 "nbformat": 4,
 "nbformat_minor": 2
}
